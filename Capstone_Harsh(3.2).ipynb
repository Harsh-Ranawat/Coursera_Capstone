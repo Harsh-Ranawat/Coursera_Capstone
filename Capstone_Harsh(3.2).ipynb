{
 "cells": [
  {
   "cell_type": "markdown",
   "metadata": {},
   "source": [
    "# Welcome to my Capstone project !"
   ]
  },
  {
   "cell_type": "code",
   "execution_count": 16,
   "metadata": {},
   "outputs": [],
   "source": [
    "import pandas as pd \n",
    "import numpy as np\n",
    "from bs4 import BeautifulSoup\n",
    "import requests\n"
   ]
  },
  {
   "cell_type": "code",
   "execution_count": 17,
   "metadata": {},
   "outputs": [],
   "source": [
    "url=\"https://en.wikipedia.org/w/index.php?title=List_of_postal_codes_of_Canada:_M\"\n",
    "raw=requests.get(url).text\n",
    "#Get Text Version of LXML code\n",
    "\n",
    "soup = BeautifulSoup(raw,\"lxml\")\n",
    "My_table = soup.find(\"table\",{\"class\":\"wikitable sortable\"}) #obtain only table code and its contents from the Wikipedia Page\n",
    "pcode=[]\n",
    "borou=[]\n",
    "neigh=[]\n",
    "\n",
    "for row in My_table.findAll(\"tr\"):\n",
    "    cells = row.findAll(\"td\")\n",
    "    #For each \"tr\", assign each \"td\" to a variable.\n",
    "    if len(cells)==3:\n",
    "        pcode.append(cells[0].find(text=True))\n",
    "        borou.append(cells[1].find(text=True))\n",
    "        neigh.append(cells[2].find(text=True))\n",
    "        \n",
    "column=['Postcode','Borough','Neighborhood']\n",
    "mainframe=pd.DataFrame(columns=column) #Generate empty dataframe\n",
    "\n",
    "for i in range(0,len(pcode)): #Add all data into dataframe, except 'Not assigned' Boroughs\n",
    "    if borou[i]!=\"Not assigned\":\n",
    "        mainframe.loc[i]=[pcode[i],borou[i],neigh[i]]\n",
    "\n",
    "mainframe.reset_index(drop=True)\n",
    "pcodes=mainframe['Postcode'].unique()     #Get list of postal codes"
   ]
  },
  {
   "cell_type": "code",
   "execution_count": 18,
   "metadata": {},
   "outputs": [],
   "source": [
    "for i in pcodes:\n",
    "    indexes=mainframe.loc[mainframe['Postcode']==i].index #Get list of indexes corresponding to each postcode\n",
    "    text=mainframe['Neighborhood'][indexes[0]].replace('\\n','')\n",
    "    for j in range(0,len(indexes)):\n",
    "        if j !=0:\n",
    "            text_add=mainframe['Neighborhood'][indexes[j]].replace('\\n','')\n",
    "            text=text+\", \"+text_add #Prepare new text data for each unique Postcode\n",
    "            mainframe.drop(indexes[j],inplace=True) #Drop rows except the merged row\n",
    "    mainframe['Neighborhood'][indexes[0]]=text"
   ]
  },
  {
   "cell_type": "code",
   "execution_count": 19,
   "metadata": {},
   "outputs": [],
   "source": [
    "mainframe.reset_index(drop=True,inplace=True)"
   ]
  },
  {
   "cell_type": "code",
   "execution_count": 20,
   "metadata": {},
   "outputs": [],
   "source": [
    "NAindexes=mainframe.loc[mainframe['Neighborhood']=='Not assigned'].index #Get list of indexes corresponding to 'Not assigned' Neighborhood\n",
    "for a in NAindexes:\n",
    "    mainframe['Neighborhood'][a]=mainframe['Borough'][a]"
   ]
  },
  {
   "cell_type": "code",
   "execution_count": 21,
   "metadata": {},
   "outputs": [],
   "source": [
    "#print(\"Number of rows in filtered dataframe: {}\".format(mainframe.shape[0]))\n",
    "#mainframe.head(11)"
   ]
  },
  {
   "cell_type": "code",
   "execution_count": 22,
   "metadata": {},
   "outputs": [],
   "source": [
    "#Initialise new columns in the mainframe\n",
    "mainframe['Latitude']=None \n",
    "mainframe['Longitude']=None\n",
    "#Read CSV file\n",
    "toadd=pd.DataFrame(pd.read_csv('http://cocl.us/Geospatial_data'))"
   ]
  },
  {
   "cell_type": "code",
   "execution_count": 23,
   "metadata": {},
   "outputs": [],
   "source": [
    "#Correlate and add latitudes and longitudes from 'toadd' into mainframe\n",
    "for i in pcodes:\n",
    "    for j in toadd['Postal Code']:\n",
    "        if i ==j:\n",
    "            mainframe['Latitude'][mainframe.loc[mainframe['Postcode']==i].index]=toadd['Latitude'][toadd.loc[toadd['Postal Code']==j].index]\n",
    "            mainframe['Longitude'][mainframe.loc[mainframe['Postcode']==i].index]=toadd['Longitude'][toadd.loc[toadd['Postal Code']==j].index]"
   ]
  },
  {
   "cell_type": "code",
   "execution_count": 24,
   "metadata": {},
   "outputs": [
    {
     "data": {
      "text/html": [
       "<div>\n",
       "<style scoped>\n",
       "    .dataframe tbody tr th:only-of-type {\n",
       "        vertical-align: middle;\n",
       "    }\n",
       "\n",
       "    .dataframe tbody tr th {\n",
       "        vertical-align: top;\n",
       "    }\n",
       "\n",
       "    .dataframe thead th {\n",
       "        text-align: right;\n",
       "    }\n",
       "</style>\n",
       "<table border=\"1\" class=\"dataframe\">\n",
       "  <thead>\n",
       "    <tr style=\"text-align: right;\">\n",
       "      <th></th>\n",
       "      <th>Postcode</th>\n",
       "      <th>Borough</th>\n",
       "      <th>Neighborhood</th>\n",
       "      <th>Latitude</th>\n",
       "      <th>Longitude</th>\n",
       "    </tr>\n",
       "  </thead>\n",
       "  <tbody>\n",
       "    <tr>\n",
       "      <th>0</th>\n",
       "      <td>M3A</td>\n",
       "      <td>North York</td>\n",
       "      <td>Parkwoods</td>\n",
       "      <td>43.7533</td>\n",
       "      <td>-79.3297</td>\n",
       "    </tr>\n",
       "    <tr>\n",
       "      <th>1</th>\n",
       "      <td>M4A</td>\n",
       "      <td>North York</td>\n",
       "      <td>Victoria Village</td>\n",
       "      <td>43.7259</td>\n",
       "      <td>-79.3156</td>\n",
       "    </tr>\n",
       "    <tr>\n",
       "      <th>2</th>\n",
       "      <td>M5A</td>\n",
       "      <td>Downtown Toronto</td>\n",
       "      <td>Harbourfront, Regent Park</td>\n",
       "      <td>43.6543</td>\n",
       "      <td>-79.3606</td>\n",
       "    </tr>\n",
       "    <tr>\n",
       "      <th>3</th>\n",
       "      <td>M6A</td>\n",
       "      <td>North York</td>\n",
       "      <td>Lawrence Heights, Lawrence Manor</td>\n",
       "      <td>43.7185</td>\n",
       "      <td>-79.4648</td>\n",
       "    </tr>\n",
       "    <tr>\n",
       "      <th>4</th>\n",
       "      <td>M7A</td>\n",
       "      <td>Queen's Park</td>\n",
       "      <td>Queen's Park</td>\n",
       "      <td>43.6623</td>\n",
       "      <td>-79.3895</td>\n",
       "    </tr>\n",
       "    <tr>\n",
       "      <th>5</th>\n",
       "      <td>M9A</td>\n",
       "      <td>Etobicoke</td>\n",
       "      <td>Islington Avenue</td>\n",
       "      <td>43.6679</td>\n",
       "      <td>-79.5322</td>\n",
       "    </tr>\n",
       "    <tr>\n",
       "      <th>6</th>\n",
       "      <td>M1B</td>\n",
       "      <td>Scarborough</td>\n",
       "      <td>Rouge, Malvern</td>\n",
       "      <td>43.8067</td>\n",
       "      <td>-79.1944</td>\n",
       "    </tr>\n",
       "    <tr>\n",
       "      <th>7</th>\n",
       "      <td>M3B</td>\n",
       "      <td>North York</td>\n",
       "      <td>Don Mills North</td>\n",
       "      <td>43.7459</td>\n",
       "      <td>-79.3522</td>\n",
       "    </tr>\n",
       "    <tr>\n",
       "      <th>8</th>\n",
       "      <td>M4B</td>\n",
       "      <td>East York</td>\n",
       "      <td>Woodbine Gardens, Parkview Hill</td>\n",
       "      <td>43.7064</td>\n",
       "      <td>-79.3099</td>\n",
       "    </tr>\n",
       "    <tr>\n",
       "      <th>9</th>\n",
       "      <td>M5B</td>\n",
       "      <td>Downtown Toronto</td>\n",
       "      <td>Ryerson, Garden District</td>\n",
       "      <td>43.6572</td>\n",
       "      <td>-79.3789</td>\n",
       "    </tr>\n",
       "    <tr>\n",
       "      <th>10</th>\n",
       "      <td>M6B</td>\n",
       "      <td>North York</td>\n",
       "      <td>Glencairn</td>\n",
       "      <td>43.7096</td>\n",
       "      <td>-79.4451</td>\n",
       "    </tr>\n",
       "  </tbody>\n",
       "</table>\n",
       "</div>"
      ],
      "text/plain": [
       "   Postcode           Borough                      Neighborhood Latitude  \\\n",
       "0       M3A        North York                         Parkwoods  43.7533   \n",
       "1       M4A        North York                  Victoria Village  43.7259   \n",
       "2       M5A  Downtown Toronto         Harbourfront, Regent Park  43.6543   \n",
       "3       M6A        North York  Lawrence Heights, Lawrence Manor  43.7185   \n",
       "4       M7A      Queen's Park                      Queen's Park  43.6623   \n",
       "5       M9A         Etobicoke                  Islington Avenue  43.6679   \n",
       "6       M1B       Scarborough                    Rouge, Malvern  43.8067   \n",
       "7       M3B        North York                   Don Mills North  43.7459   \n",
       "8       M4B         East York   Woodbine Gardens, Parkview Hill  43.7064   \n",
       "9       M5B  Downtown Toronto          Ryerson, Garden District  43.6572   \n",
       "10      M6B        North York                         Glencairn  43.7096   \n",
       "\n",
       "   Longitude  \n",
       "0   -79.3297  \n",
       "1   -79.3156  \n",
       "2   -79.3606  \n",
       "3   -79.4648  \n",
       "4   -79.3895  \n",
       "5   -79.5322  \n",
       "6   -79.1944  \n",
       "7   -79.3522  \n",
       "8   -79.3099  \n",
       "9   -79.3789  \n",
       "10  -79.4451  "
      ]
     },
     "execution_count": 24,
     "metadata": {},
     "output_type": "execute_result"
    }
   ],
   "source": [
    "mainframe.head(11)"
   ]
  },
  {
   "cell_type": "code",
   "execution_count": null,
   "metadata": {},
   "outputs": [],
   "source": []
  },
  {
   "cell_type": "code",
   "execution_count": null,
   "metadata": {},
   "outputs": [],
   "source": []
  }
 ],
 "metadata": {
  "kernelspec": {
   "display_name": "Python 3",
   "language": "python",
   "name": "python3"
  },
  "language_info": {
   "codemirror_mode": {
    "name": "ipython",
    "version": 3
   },
   "file_extension": ".py",
   "mimetype": "text/x-python",
   "name": "python",
   "nbconvert_exporter": "python",
   "pygments_lexer": "ipython3",
   "version": "3.6.8"
  }
 },
 "nbformat": 4,
 "nbformat_minor": 2
}
