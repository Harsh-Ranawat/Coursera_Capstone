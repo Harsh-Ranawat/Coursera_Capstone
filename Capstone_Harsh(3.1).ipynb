{
 "cells": [
  {
   "cell_type": "markdown",
   "metadata": {},
   "source": [
    "# Welcome to my Capstone project !"
   ]
  },
  {
   "cell_type": "code",
   "execution_count": 1,
   "metadata": {},
   "outputs": [],
   "source": [
    "import pandas as pd \n",
    "import numpy as np\n",
    "from bs4 import BeautifulSoup\n",
    "import requests"
   ]
  },
  {
   "cell_type": "code",
   "execution_count": 3,
   "metadata": {},
   "outputs": [],
   "source": [
    "url=\"https://en.wikipedia.org/w/index.php?title=List_of_postal_codes_of_Canada:_M\"\n",
    "raw=requests.get(url).text\n",
    "#Get Text Version of LXML code\n",
    "\n",
    "soup = BeautifulSoup(raw,\"lxml\")\n",
    "My_table = soup.find(\"table\",{\"class\":\"wikitable sortable\"}) #obtain only table code and its contents from the Wikipedia Page\n",
    "pcode=[]\n",
    "borou=[]\n",
    "neigh=[]\n",
    "\n",
    "for row in My_table.findAll(\"tr\"):\n",
    "    cells = row.findAll(\"td\")\n",
    "    #For each \"tr\", assign each \"td\" to a variable.\n",
    "    if len(cells)==3:\n",
    "        pcode.append(cells[0].find(text=True))\n",
    "        borou.append(cells[1].find(text=True))\n",
    "        neigh.append(cells[2].find(text=True))\n",
    "        \n",
    "column=['Postcode','Borough','Neighborhood']\n",
    "mainframe=pd.DataFrame(columns=column) #Generate empty dataframe\n",
    "\n",
    "for i in range(0,len(pcode)): #Add all data into dataframe, except 'Not assigned' Boroughs\n",
    "    if borou[i]!=\"Not assigned\":\n",
    "        mainframe.loc[i]=[pcode[i],borou[i],neigh[i]]\n",
    "\n",
    "mainframe.reset_index(drop=True)\n",
    "pcodes=mainframe['Postcode'].unique()     #Get list of postal codes"
   ]
  },
  {
   "cell_type": "code",
   "execution_count": 6,
   "metadata": {},
   "outputs": [],
   "source": [
    "for i in pcodes:\n",
    "    indexes=mainframe.loc[mainframe['Postcode']==i].index #Get list of indexes corresponding to each postcode\n",
    "    text=mainframe['Neighborhood'][indexes[0]].replace('\\n','')\n",
    "    for j in range(0,len(indexes)):\n",
    "        if j !=0:\n",
    "            text_add=mainframe['Neighborhood'][indexes[j]].replace('\\n','')\n",
    "            text=text+\", \"+text_add #Prepare new text data for each unique Postcode\n",
    "            mainframe.drop(indexes[j],inplace=True) #Drop rows except the merged row\n",
    "    mainframe['Neighborhood'][indexes[0]]=text"
   ]
  },
  {
   "cell_type": "code",
   "execution_count": 7,
   "metadata": {},
   "outputs": [],
   "source": [
    "mainframe.reset_index(drop=True,inplace=True)"
   ]
  },
  {
   "cell_type": "code",
   "execution_count": 8,
   "metadata": {},
   "outputs": [],
   "source": [
    "NAindexes=mainframe.loc[mainframe['Neighborhood']=='Not assigned'].index #Get list of indexes corresponding to 'Not assigned' Neighborhood\n",
    "for a in NAindexes:\n",
    "    mainframe['Neighborhood'][a]=mainframe['Borough'][a]"
   ]
  },
  {
   "cell_type": "code",
   "execution_count": 9,
   "metadata": {},
   "outputs": [
    {
     "name": "stdout",
     "output_type": "stream",
     "text": [
      "Number of shows in filtered dataframe: 103\n"
     ]
    },
    {
     "data": {
      "text/html": [
       "<div>\n",
       "<style scoped>\n",
       "    .dataframe tbody tr th:only-of-type {\n",
       "        vertical-align: middle;\n",
       "    }\n",
       "\n",
       "    .dataframe tbody tr th {\n",
       "        vertical-align: top;\n",
       "    }\n",
       "\n",
       "    .dataframe thead th {\n",
       "        text-align: right;\n",
       "    }\n",
       "</style>\n",
       "<table border=\"1\" class=\"dataframe\">\n",
       "  <thead>\n",
       "    <tr style=\"text-align: right;\">\n",
       "      <th></th>\n",
       "      <th>Postcode</th>\n",
       "      <th>Borough</th>\n",
       "      <th>Neighborhood</th>\n",
       "    </tr>\n",
       "  </thead>\n",
       "  <tbody>\n",
       "    <tr>\n",
       "      <th>0</th>\n",
       "      <td>M3A</td>\n",
       "      <td>North York</td>\n",
       "      <td>Parkwoods</td>\n",
       "    </tr>\n",
       "    <tr>\n",
       "      <th>1</th>\n",
       "      <td>M4A</td>\n",
       "      <td>North York</td>\n",
       "      <td>Victoria Village</td>\n",
       "    </tr>\n",
       "    <tr>\n",
       "      <th>2</th>\n",
       "      <td>M5A</td>\n",
       "      <td>Downtown Toronto</td>\n",
       "      <td>Harbourfront, Regent Park</td>\n",
       "    </tr>\n",
       "    <tr>\n",
       "      <th>3</th>\n",
       "      <td>M6A</td>\n",
       "      <td>North York</td>\n",
       "      <td>Lawrence Heights, Lawrence Manor</td>\n",
       "    </tr>\n",
       "    <tr>\n",
       "      <th>4</th>\n",
       "      <td>M7A</td>\n",
       "      <td>Queen's Park</td>\n",
       "      <td>Queen's Park</td>\n",
       "    </tr>\n",
       "    <tr>\n",
       "      <th>5</th>\n",
       "      <td>M9A</td>\n",
       "      <td>Etobicoke</td>\n",
       "      <td>Islington Avenue</td>\n",
       "    </tr>\n",
       "    <tr>\n",
       "      <th>6</th>\n",
       "      <td>M1B</td>\n",
       "      <td>Scarborough</td>\n",
       "      <td>Rouge, Malvern</td>\n",
       "    </tr>\n",
       "    <tr>\n",
       "      <th>7</th>\n",
       "      <td>M3B</td>\n",
       "      <td>North York</td>\n",
       "      <td>Don Mills North</td>\n",
       "    </tr>\n",
       "    <tr>\n",
       "      <th>8</th>\n",
       "      <td>M4B</td>\n",
       "      <td>East York</td>\n",
       "      <td>Woodbine Gardens, Parkview Hill</td>\n",
       "    </tr>\n",
       "    <tr>\n",
       "      <th>9</th>\n",
       "      <td>M5B</td>\n",
       "      <td>Downtown Toronto</td>\n",
       "      <td>Ryerson, Garden District</td>\n",
       "    </tr>\n",
       "    <tr>\n",
       "      <th>10</th>\n",
       "      <td>M6B</td>\n",
       "      <td>North York</td>\n",
       "      <td>Glencairn</td>\n",
       "    </tr>\n",
       "  </tbody>\n",
       "</table>\n",
       "</div>"
      ],
      "text/plain": [
       "   Postcode           Borough                      Neighborhood\n",
       "0       M3A        North York                         Parkwoods\n",
       "1       M4A        North York                  Victoria Village\n",
       "2       M5A  Downtown Toronto         Harbourfront, Regent Park\n",
       "3       M6A        North York  Lawrence Heights, Lawrence Manor\n",
       "4       M7A      Queen's Park                      Queen's Park\n",
       "5       M9A         Etobicoke                  Islington Avenue\n",
       "6       M1B       Scarborough                    Rouge, Malvern\n",
       "7       M3B        North York                   Don Mills North\n",
       "8       M4B         East York   Woodbine Gardens, Parkview Hill\n",
       "9       M5B  Downtown Toronto          Ryerson, Garden District\n",
       "10      M6B        North York                         Glencairn"
      ]
     },
     "execution_count": 9,
     "metadata": {},
     "output_type": "execute_result"
    }
   ],
   "source": [
    "print(\"Number of shows in filtered dataframe: {}\".format(mainframe.shape[0]))\n",
    "mainframe.head(11)"
   ]
  }
 ],
 "metadata": {
  "kernelspec": {
   "display_name": "Python 3",
   "language": "python",
   "name": "python3"
  },
  "language_info": {
   "codemirror_mode": {
    "name": "ipython",
    "version": 3
   },
   "file_extension": ".py",
   "mimetype": "text/x-python",
   "name": "python",
   "nbconvert_exporter": "python",
   "pygments_lexer": "ipython3",
   "version": "3.6.8"
  }
 },
 "nbformat": 4,
 "nbformat_minor": 2
}
